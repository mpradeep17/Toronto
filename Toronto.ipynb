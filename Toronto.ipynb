{
 "cells": [
  {
   "cell_type": "markdown",
   "metadata": {},
   "source": [
    "# Toronto Neighbourhood Capstone Project"
   ]
  },
  {
   "cell_type": "markdown",
   "metadata": {},
   "source": [
    "## Part I - Download, clean data, and Present as per the assignment"
   ]
  },
  {
   "cell_type": "markdown",
   "metadata": {},
   "source": [
    "- Import libraries"
   ]
  },
  {
   "cell_type": "code",
   "execution_count": 1,
   "metadata": {},
   "outputs": [],
   "source": [
    "import pandas as pd\n",
    "import requests\n",
    "from bs4 import BeautifulSoup\n",
    "import numpy as np"
   ]
  },
  {
   "cell_type": "markdown",
   "metadata": {},
   "source": [
    "- Download data and read into dataframe"
   ]
  },
  {
   "cell_type": "code",
   "execution_count": 2,
   "metadata": {},
   "outputs": [],
   "source": [
    "url='https://en.wikipedia.org/wiki/List_of_postal_codes_of_Canada:_M'\n",
    "response=requests.get(url)\n",
    "soup = BeautifulSoup(response.content,'lxml')\n",
    "table = soup.find_all('table')[0] \n",
    "df = pd.read_html(str(table))"
   ]
  },
  {
   "cell_type": "code",
   "execution_count": 3,
   "metadata": {},
   "outputs": [
    {
     "name": "stdout",
     "output_type": "stream",
     "text": [
      "[]\n",
      "['M1A', 'Not assigned', 'Not assigned\\n']\n",
      "['M2A', 'Not assigned', 'Not assigned\\n']\n",
      "['M3A', 'North York', 'Parkwoods\\n']\n",
      "['M4A', 'North York', 'Victoria Village\\n']\n",
      "['M5A', 'Downtown Toronto', 'Harbourfront\\n']\n",
      "['M6A', 'North York', 'Lawrence Heights\\n']\n",
      "['M6A', 'North York', 'Lawrence Manor\\n']\n",
      "['M7A', 'Downtown Toronto', \"Queen's Park\\n\"]\n",
      "['M8A', 'Not assigned', 'Not assigned\\n']\n",
      "['M9A', 'Etobicoke', 'Islington Avenue\\n']\n",
      "['M1B', 'Scarborough', 'Rouge\\n']\n",
      "['M1B', 'Scarborough', 'Malvern\\n']\n",
      "['M2B', 'Not assigned', 'Not assigned\\n']\n",
      "['M3B', 'North York', 'Don Mills North\\n']\n",
      "['M4B', 'East York', 'Woodbine Gardens\\n']\n",
      "['M4B', 'East York', 'Parkview Hill\\n']\n",
      "['M5B', 'Downtown Toronto', 'Ryerson\\n']\n",
      "['M5B', 'Downtown Toronto', 'Garden District\\n']\n",
      "['M6B', 'North York', 'Glencairn\\n']\n",
      "['M7B', 'Not assigned', 'Not assigned\\n']\n",
      "['M8B', 'Not assigned', 'Not assigned\\n']\n",
      "['M9B', 'Etobicoke', 'Cloverdale\\n']\n",
      "['M9B', 'Etobicoke', 'Islington\\n']\n",
      "['M9B', 'Etobicoke', 'Martin Grove\\n']\n",
      "['M9B', 'Etobicoke', 'Princess Gardens\\n']\n",
      "['M9B', 'Etobicoke', 'West Deane Park\\n']\n",
      "['M1C', 'Scarborough', 'Highland Creek\\n']\n",
      "['M1C', 'Scarborough', 'Rouge Hill\\n']\n",
      "['M1C', 'Scarborough', 'Port Union\\n']\n",
      "['M2C', 'Not assigned', 'Not assigned\\n']\n",
      "['M3C', 'North York', 'Flemingdon Park\\n']\n",
      "['M3C', 'North York', 'Don Mills South\\n']\n",
      "['M4C', 'East York', 'Woodbine Heights\\n']\n",
      "['M5C', 'Downtown Toronto', 'St. James Town\\n']\n",
      "['M6C', 'York', 'Humewood-Cedarvale\\n']\n",
      "['M7C', 'Not assigned', 'Not assigned\\n']\n",
      "['M8C', 'Not assigned', 'Not assigned\\n']\n",
      "['M9C', 'Etobicoke', 'Bloordale Gardens\\n']\n",
      "['M9C', 'Etobicoke', 'Eringate\\n']\n",
      "['M9C', 'Etobicoke', 'Markland Wood\\n']\n",
      "['M9C', 'Etobicoke', 'Old Burnhamthorpe\\n']\n",
      "['M1E', 'Scarborough', 'Guildwood\\n']\n",
      "['M1E', 'Scarborough', 'Morningside\\n']\n",
      "['M1E', 'Scarborough', 'West Hill\\n']\n",
      "['M2E', 'Not assigned', 'Not assigned\\n']\n",
      "['M3E', 'Not assigned', 'Not assigned\\n']\n",
      "['M4E', 'East Toronto', 'The Beaches\\n']\n",
      "['M5E', 'Downtown Toronto', 'Berczy Park\\n']\n",
      "['M6E', 'York', 'Caledonia-Fairbanks\\n']\n",
      "['M7E', 'Not assigned', 'Not assigned\\n']\n",
      "['M8E', 'Not assigned', 'Not assigned\\n']\n",
      "['M9E', 'Not assigned', 'Not assigned\\n']\n",
      "['M1G', 'Scarborough', 'Woburn\\n']\n",
      "['M2G', 'Not assigned', 'Not assigned\\n']\n",
      "['M3G', 'Not assigned', 'Not assigned\\n']\n",
      "['M4G', 'East York', 'Leaside\\n']\n",
      "['M5G', 'Downtown Toronto', 'Central Bay Street\\n']\n",
      "['M6G', 'Downtown Toronto', 'Christie\\n']\n",
      "['M7G', 'Not assigned', 'Not assigned\\n']\n",
      "['M8G', 'Not assigned', 'Not assigned\\n']\n",
      "['M9G', 'Not assigned', 'Not assigned\\n']\n",
      "['M1H', 'Scarborough', 'Cedarbrae\\n']\n",
      "['M2H', 'North York', 'Hillcrest Village\\n']\n",
      "['M3H', 'North York', 'Bathurst Manor\\n']\n",
      "['M3H', 'North York', 'Downsview North\\n']\n",
      "['M3H', 'North York', 'Wilson Heights\\n']\n",
      "['M4H', 'East York', 'Thorncliffe Park\\n']\n",
      "['M5H', 'Downtown Toronto', 'Adelaide\\n']\n",
      "['M5H', 'Downtown Toronto', 'King\\n']\n",
      "['M5H', 'Downtown Toronto', 'Richmond\\n']\n",
      "['M6H', 'West Toronto', 'Dovercourt Village\\n']\n",
      "['M6H', 'West Toronto', 'Dufferin\\n']\n",
      "['M7H', 'Not assigned', 'Not assigned\\n']\n",
      "['M8H', 'Not assigned', 'Not assigned\\n']\n",
      "['M9H', 'Not assigned', 'Not assigned\\n']\n",
      "['M1J', 'Scarborough', 'Scarborough Village\\n']\n",
      "['M2J', 'North York', 'Fairview\\n']\n",
      "['M2J', 'North York', 'Henry Farm\\n']\n",
      "['M2J', 'North York', 'Oriole\\n']\n",
      "['M3J', 'North York', 'Northwood Park\\n']\n",
      "['M3J', 'North York', 'York University\\n']\n",
      "['M4J', 'East York', 'East Toronto\\n']\n",
      "['M5J', 'Downtown Toronto', 'Harbourfront East\\n']\n",
      "['M5J', 'Downtown Toronto', 'Toronto Islands\\n']\n",
      "['M5J', 'Downtown Toronto', 'Union Station\\n']\n",
      "['M6J', 'West Toronto', 'Little Portugal\\n']\n",
      "['M6J', 'West Toronto', 'Trinity\\n']\n",
      "['M7J', 'Not assigned', 'Not assigned\\n']\n",
      "['M8J', 'Not assigned', 'Not assigned\\n']\n",
      "['M9J', 'Not assigned', 'Not assigned\\n']\n",
      "['M1K', 'Scarborough', 'East Birchmount Park\\n']\n",
      "['M1K', 'Scarborough', 'Ionview\\n']\n",
      "['M1K', 'Scarborough', 'Kennedy Park\\n']\n",
      "['M2K', 'North York', 'Bayview Village\\n']\n",
      "['M3K', 'North York', 'CFB Toronto\\n']\n",
      "['M3K', 'North York', 'Downsview East\\n']\n",
      "['M4K', 'East Toronto', 'The Danforth West\\n']\n",
      "['M4K', 'East Toronto', 'Riverdale\\n']\n",
      "['M5K', 'Downtown Toronto', 'Design Exchange\\n']\n",
      "['M5K', 'Downtown Toronto', 'Toronto Dominion Centre\\n']\n",
      "['M6K', 'West Toronto', 'Brockton\\n']\n",
      "['M6K', 'West Toronto', 'Exhibition Place\\n']\n",
      "['M6K', 'West Toronto', 'Parkdale Village\\n']\n",
      "['M7K', 'Not assigned', 'Not assigned\\n']\n",
      "['M8K', 'Not assigned', 'Not assigned\\n']\n",
      "['M9K', 'Not assigned', 'Not assigned\\n']\n",
      "['M1L', 'Scarborough', 'Clairlea\\n']\n",
      "['M1L', 'Scarborough', 'Golden Mile\\n']\n",
      "['M1L', 'Scarborough', 'Oakridge\\n']\n",
      "['M2L', 'North York', 'Silver Hills\\n']\n",
      "['M2L', 'North York', 'York Mills\\n']\n",
      "['M3L', 'North York', 'Downsview West\\n']\n",
      "['M4L', 'East Toronto', 'The Beaches West\\n']\n",
      "['M4L', 'East Toronto', 'India Bazaar\\n']\n",
      "['M5L', 'Downtown Toronto', 'Commerce Court\\n']\n",
      "['M5L', 'Downtown Toronto', 'Victoria Hotel\\n']\n",
      "['M6L', 'North York', 'Downsview\\n']\n",
      "['M6L', 'North York', 'North Park\\n']\n",
      "['M6L', 'North York', 'Upwood Park\\n']\n",
      "['M7L', 'Not assigned', 'Not assigned\\n']\n",
      "['M8L', 'Not assigned', 'Not assigned\\n']\n",
      "['M9L', 'North York', 'Humber Summit\\n']\n",
      "['M1M', 'Scarborough', 'Cliffcrest\\n']\n",
      "['M1M', 'Scarborough', 'Cliffside\\n']\n",
      "['M1M', 'Scarborough', 'Scarborough Village West\\n']\n",
      "['M2M', 'North York', 'Newtonbrook\\n']\n",
      "['M2M', 'North York', 'Willowdale\\n']\n",
      "['M3M', 'North York', 'Downsview Central\\n']\n",
      "['M4M', 'East Toronto', 'Studio District\\n']\n",
      "['M5M', 'North York', 'Bedford Park\\n']\n",
      "['M5M', 'North York', 'Lawrence Manor East\\n']\n",
      "['M6M', 'York', 'Del Ray\\n']\n",
      "['M6M', 'York', 'Keelesdale\\n']\n",
      "['M6M', 'York', 'Mount Dennis\\n']\n",
      "['M6M', 'York', 'Silverthorn\\n']\n",
      "['M7M', 'Not assigned', 'Not assigned\\n']\n",
      "['M8M', 'Not assigned', 'Not assigned\\n']\n",
      "['M9M', 'North York', 'Emery\\n']\n",
      "['M9M', 'North York', 'Humberlea\\n']\n",
      "['M1N', 'Scarborough', 'Birch Cliff\\n']\n",
      "['M1N', 'Scarborough', 'Cliffside West\\n']\n",
      "['M2N', 'North York', 'Willowdale South\\n']\n",
      "['M3N', 'North York', 'Downsview Northwest\\n']\n",
      "['M4N', 'Central Toronto', 'Lawrence Park\\n']\n",
      "['M5N', 'Central Toronto', 'Roselawn\\n']\n",
      "['M6N', 'York', 'The Junction North\\n']\n",
      "['M6N', 'York', 'Runnymede\\n']\n",
      "['M7N', 'Not assigned', 'Not assigned\\n']\n",
      "['M8N', 'Not assigned', 'Not assigned\\n']\n",
      "['M9N', 'York', 'Weston\\n']\n",
      "['M1P', 'Scarborough', 'Dorset Park\\n']\n",
      "['M1P', 'Scarborough', 'Scarborough Town Centre\\n']\n",
      "['M1P', 'Scarborough', 'Wexford Heights\\n']\n",
      "['M2P', 'North York', 'York Mills West\\n']\n",
      "['M3P', 'Not assigned', 'Not assigned\\n']\n",
      "['M4P', 'Central Toronto', 'Davisville North\\n']\n",
      "['M5P', 'Central Toronto', 'Forest Hill North\\n']\n",
      "['M5P', 'Central Toronto', 'Forest Hill West\\n']\n",
      "['M6P', 'West Toronto', 'High Park\\n']\n",
      "['M6P', 'West Toronto', 'The Junction South\\n']\n",
      "['M7P', 'Not assigned', 'Not assigned\\n']\n",
      "['M8P', 'Not assigned', 'Not assigned\\n']\n",
      "['M9P', 'Etobicoke', 'Westmount\\n']\n",
      "['M1R', 'Scarborough', 'Maryvale\\n']\n",
      "['M1R', 'Scarborough', 'Wexford\\n']\n",
      "['M2R', 'North York', 'Willowdale West\\n']\n",
      "['M3R', 'Not assigned', 'Not assigned\\n']\n",
      "['M4R', 'Central Toronto', 'North Toronto West\\n']\n",
      "['M5R', 'Central Toronto', 'The Annex\\n']\n",
      "['M5R', 'Central Toronto', 'North Midtown\\n']\n",
      "['M5R', 'Central Toronto', 'Yorkville\\n']\n",
      "['M6R', 'West Toronto', 'Parkdale\\n']\n",
      "['M6R', 'West Toronto', 'Roncesvalles\\n']\n",
      "['M7R', 'Mississauga', 'Canada Post Gateway Processing Centre\\n']\n",
      "['M8R', 'Not assigned', 'Not assigned\\n']\n",
      "['M9R', 'Etobicoke', 'Kingsview Village\\n']\n",
      "['M9R', 'Etobicoke', 'Martin Grove Gardens\\n']\n",
      "['M9R', 'Etobicoke', 'Richview Gardens\\n']\n",
      "['M9R', 'Etobicoke', 'St. Phillips\\n']\n",
      "['M1S', 'Scarborough', 'Agincourt\\n']\n",
      "['M2S', 'Not assigned', 'Not assigned\\n']\n",
      "['M3S', 'Not assigned', 'Not assigned\\n']\n",
      "['M4S', 'Central Toronto', 'Davisville\\n']\n",
      "['M5S', 'Downtown Toronto', 'Harbord\\n']\n",
      "['M5S', 'Downtown Toronto', 'University of Toronto\\n']\n",
      "['M6S', 'West Toronto', 'Runnymede\\n']\n",
      "['M6S', 'West Toronto', 'Swansea\\n']\n",
      "['M7S', 'Not assigned', 'Not assigned\\n']\n",
      "['M8S', 'Not assigned', 'Not assigned\\n']\n",
      "['M9S', 'Not assigned', 'Not assigned\\n']\n",
      "['M1T', 'Scarborough', 'Clarks Corners\\n']\n",
      "['M1T', 'Scarborough', 'Sullivan\\n']\n",
      "['M1T', 'Scarborough', \"Tam O'Shanter\\n\"]\n",
      "['M2T', 'Not assigned', 'Not assigned\\n']\n",
      "['M3T', 'Not assigned', 'Not assigned\\n']\n",
      "['M4T', 'Central Toronto', 'Moore Park\\n']\n",
      "['M4T', 'Central Toronto', 'Summerhill East\\n']\n",
      "['M5T', 'Downtown Toronto', 'Chinatown\\n']\n",
      "['M5T', 'Downtown Toronto', 'Grange Park\\n']\n",
      "['M5T', 'Downtown Toronto', 'Kensington Market\\n']\n",
      "['M6T', 'Not assigned', 'Not assigned\\n']\n",
      "['M7T', 'Not assigned', 'Not assigned\\n']\n",
      "['M8T', 'Not assigned', 'Not assigned\\n']\n",
      "['M9T', 'Not assigned', 'Not assigned\\n']\n",
      "['M1V', 'Scarborough', 'Agincourt North\\n']\n",
      "['M1V', 'Scarborough', \"L'Amoreaux East\\n\"]\n",
      "['M1V', 'Scarborough', 'Milliken\\n']\n",
      "['M1V', 'Scarborough', 'Steeles East\\n']\n",
      "['M2V', 'Not assigned', 'Not assigned\\n']\n",
      "['M3V', 'Not assigned', 'Not assigned\\n']\n",
      "['M4V', 'Central Toronto', 'Deer Park\\n']\n",
      "['M4V', 'Central Toronto', 'Forest Hill SE\\n']\n",
      "['M4V', 'Central Toronto', 'Rathnelly\\n']\n",
      "['M4V', 'Central Toronto', 'South Hill\\n']\n",
      "['M4V', 'Central Toronto', 'Summerhill West\\n']\n",
      "['M5V', 'Downtown Toronto', 'CN Tower\\n']\n",
      "['M5V', 'Downtown Toronto', 'Bathurst Quay\\n']\n",
      "['M5V', 'Downtown Toronto', 'Island airport\\n']\n",
      "['M5V', 'Downtown Toronto', 'Harbourfront West\\n']\n",
      "['M5V', 'Downtown Toronto', 'King and Spadina\\n']\n",
      "['M5V', 'Downtown Toronto', 'Railway Lands\\n']\n",
      "['M5V', 'Downtown Toronto', 'South Niagara\\n']\n",
      "['M6V', 'Not assigned', 'Not assigned\\n']\n",
      "['M7V', 'Not assigned', 'Not assigned\\n']\n",
      "['M8V', 'Etobicoke', 'Humber Bay Shores\\n']\n",
      "['M8V', 'Etobicoke', 'Mimico South\\n']\n",
      "['M8V', 'Etobicoke', 'New Toronto\\n']\n",
      "['M9V', 'Etobicoke', 'Albion Gardens\\n']\n",
      "['M9V', 'Etobicoke', 'Beaumond Heights\\n']\n",
      "['M9V', 'Etobicoke', 'Humbergate\\n']\n",
      "['M9V', 'Etobicoke', 'Jamestown\\n']\n",
      "['M9V', 'Etobicoke', 'Mount Olive\\n']\n",
      "['M9V', 'Etobicoke', 'Silverstone\\n']\n",
      "['M9V', 'Etobicoke', 'South Steeles\\n']\n",
      "['M9V', 'Etobicoke', 'Thistletown\\n']\n",
      "['M1W', 'Scarborough', \"L'Amoreaux West\\n\"]\n",
      "['M2W', 'Not assigned', 'Not assigned\\n']\n",
      "['M3W', 'Not assigned', 'Not assigned\\n']\n",
      "['M4W', 'Downtown Toronto', 'Rosedale\\n']\n",
      "['M5W', 'Downtown Toronto', 'Stn A PO Boxes 25 The Esplanade\\n']\n",
      "['M6W', 'Not assigned', 'Not assigned\\n']\n",
      "['M7W', 'Not assigned', 'Not assigned\\n']\n",
      "['M8W', 'Etobicoke', 'Alderwood\\n']\n",
      "['M8W', 'Etobicoke', 'Long Branch\\n']\n",
      "['M9W', 'Etobicoke', 'Northwest\\n']\n",
      "['M1X', 'Scarborough', 'Upper Rouge\\n']\n",
      "['M2X', 'Not assigned', 'Not assigned\\n']\n",
      "['M3X', 'Not assigned', 'Not assigned\\n']\n",
      "['M4X', 'Downtown Toronto', 'Cabbagetown\\n']\n",
      "['M4X', 'Downtown Toronto', 'St. James Town\\n']\n",
      "['M5X', 'Downtown Toronto', 'First Canadian Place\\n']\n",
      "['M5X', 'Downtown Toronto', 'Underground city\\n']\n",
      "['M6X', 'Not assigned', 'Not assigned\\n']\n",
      "['M7X', 'Not assigned', 'Not assigned\\n']\n",
      "['M8X', 'Etobicoke', 'The Kingsway\\n']\n",
      "['M8X', 'Etobicoke', 'Montgomery Road\\n']\n",
      "['M8X', 'Etobicoke', 'Old Mill North\\n']\n",
      "['M9X', 'Not assigned', 'Not assigned\\n']\n",
      "['M1Y', 'Not assigned', 'Not assigned\\n']\n",
      "['M2Y', 'Not assigned', 'Not assigned\\n']\n",
      "['M3Y', 'Not assigned', 'Not assigned\\n']\n",
      "['M4Y', 'Downtown Toronto', 'Church and Wellesley\\n']\n",
      "['M5Y', 'Not assigned', 'Not assigned\\n']\n",
      "['M6Y', 'Not assigned', 'Not assigned\\n']\n",
      "['M7Y', 'East Toronto', 'Business Reply Mail Processing Centre 969 Eastern\\n']\n",
      "['M8Y', 'Etobicoke', 'Humber Bay\\n']\n",
      "['M8Y', 'Etobicoke', \"King's Mill Park\\n\"]\n",
      "['M8Y', 'Etobicoke', 'Kingsway Park South East\\n']\n",
      "['M8Y', 'Etobicoke', 'Mimico NE\\n']\n",
      "['M8Y', 'Etobicoke', 'Old Mill South\\n']\n",
      "['M8Y', 'Etobicoke', 'The Queensway East\\n']\n",
      "['M8Y', 'Etobicoke', 'Royal York South East\\n']\n",
      "['M8Y', 'Etobicoke', 'Sunnylea\\n']\n",
      "['M9Y', 'Not assigned', 'Not assigned\\n']\n",
      "['M1Z', 'Not assigned', 'Not assigned\\n']\n",
      "['M2Z', 'Not assigned', 'Not assigned\\n']\n",
      "['M3Z', 'Not assigned', 'Not assigned\\n']\n",
      "['M4Z', 'Not assigned', 'Not assigned\\n']\n",
      "['M5Z', 'Not assigned', 'Not assigned\\n']\n",
      "['M6Z', 'Not assigned', 'Not assigned\\n']\n",
      "['M7Z', 'Not assigned', 'Not assigned\\n']\n",
      "['M8Z', 'Etobicoke', 'Kingsway Park South West\\n']\n",
      "['M8Z', 'Etobicoke', 'Mimico NW\\n']\n",
      "['M8Z', 'Etobicoke', 'The Queensway West\\n']\n",
      "['M8Z', 'Etobicoke', 'Royal York South West\\n']\n",
      "['M8Z', 'Etobicoke', 'South of Bloor\\n']\n",
      "['M9Z', 'Not assigned', 'Not assigned\\n']\n"
     ]
    }
   ],
   "source": [
    "table_rows = table.find_all('tr')\n",
    "rows_list = []\n",
    "for tr in table_rows:\n",
    "    td = tr.find_all('td')\n",
    "    row = [i.text for i in td]\n",
    "    rows_list.append(row)\n",
    "    print(row)"
   ]
  },
  {
   "cell_type": "markdown",
   "metadata": {},
   "source": [
    "- Cleaning of data"
   ]
  },
  {
   "cell_type": "code",
   "execution_count": 4,
   "metadata": {},
   "outputs": [
    {
     "data": {
      "text/plain": [
       "[[],\n",
       " ['M1A', 'Not assigned', 'Not assigned\\n'],\n",
       " ['M2A', 'Not assigned', 'Not assigned\\n'],\n",
       " ['M3A', 'North York', 'Parkwoods\\n'],\n",
       " ['M4A', 'North York', 'Victoria Village\\n']]"
      ]
     },
     "execution_count": 4,
     "metadata": {},
     "output_type": "execute_result"
    }
   ],
   "source": [
    "rows_list[0:5]"
   ]
  },
  {
   "cell_type": "code",
   "execution_count": 5,
   "metadata": {},
   "outputs": [
    {
     "data": {
      "text/html": [
       "<div>\n",
       "<style scoped>\n",
       "    .dataframe tbody tr th:only-of-type {\n",
       "        vertical-align: middle;\n",
       "    }\n",
       "\n",
       "    .dataframe tbody tr th {\n",
       "        vertical-align: top;\n",
       "    }\n",
       "\n",
       "    .dataframe thead th {\n",
       "        text-align: right;\n",
       "    }\n",
       "</style>\n",
       "<table border=\"1\" class=\"dataframe\">\n",
       "  <thead>\n",
       "    <tr style=\"text-align: right;\">\n",
       "      <th></th>\n",
       "      <th>0</th>\n",
       "      <th>1</th>\n",
       "      <th>2</th>\n",
       "    </tr>\n",
       "  </thead>\n",
       "  <tbody>\n",
       "    <tr>\n",
       "      <th>0</th>\n",
       "      <td>None</td>\n",
       "      <td>None</td>\n",
       "      <td>None</td>\n",
       "    </tr>\n",
       "    <tr>\n",
       "      <th>1</th>\n",
       "      <td>M1A</td>\n",
       "      <td>Not assigned</td>\n",
       "      <td>Not assigned\\n</td>\n",
       "    </tr>\n",
       "    <tr>\n",
       "      <th>2</th>\n",
       "      <td>M2A</td>\n",
       "      <td>Not assigned</td>\n",
       "      <td>Not assigned\\n</td>\n",
       "    </tr>\n",
       "    <tr>\n",
       "      <th>3</th>\n",
       "      <td>M3A</td>\n",
       "      <td>North York</td>\n",
       "      <td>Parkwoods\\n</td>\n",
       "    </tr>\n",
       "    <tr>\n",
       "      <th>4</th>\n",
       "      <td>M4A</td>\n",
       "      <td>North York</td>\n",
       "      <td>Victoria Village\\n</td>\n",
       "    </tr>\n",
       "  </tbody>\n",
       "</table>\n",
       "</div>"
      ],
      "text/plain": [
       "      0             1                   2\n",
       "0  None          None                None\n",
       "1   M1A  Not assigned      Not assigned\\n\n",
       "2   M2A  Not assigned      Not assigned\\n\n",
       "3   M3A    North York         Parkwoods\\n\n",
       "4   M4A    North York  Victoria Village\\n"
      ]
     },
     "execution_count": 5,
     "metadata": {},
     "output_type": "execute_result"
    }
   ],
   "source": [
    "df_neigh = pd.DataFrame(rows_list)\n",
    "df_neigh.head(5)"
   ]
  },
  {
   "cell_type": "markdown",
   "metadata": {},
   "source": [
    "- Eliminating rows having 'Not Assigned'as data"
   ]
  },
  {
   "cell_type": "code",
   "execution_count": 6,
   "metadata": {},
   "outputs": [
    {
     "data": {
      "text/html": [
       "<div>\n",
       "<style scoped>\n",
       "    .dataframe tbody tr th:only-of-type {\n",
       "        vertical-align: middle;\n",
       "    }\n",
       "\n",
       "    .dataframe tbody tr th {\n",
       "        vertical-align: top;\n",
       "    }\n",
       "\n",
       "    .dataframe thead th {\n",
       "        text-align: right;\n",
       "    }\n",
       "</style>\n",
       "<table border=\"1\" class=\"dataframe\">\n",
       "  <thead>\n",
       "    <tr style=\"text-align: right;\">\n",
       "      <th></th>\n",
       "      <th>PostalCode</th>\n",
       "      <th>Borough</th>\n",
       "      <th>Neighborhood</th>\n",
       "    </tr>\n",
       "  </thead>\n",
       "  <tbody>\n",
       "    <tr>\n",
       "      <th>3</th>\n",
       "      <td>M3A</td>\n",
       "      <td>North York</td>\n",
       "      <td>Parkwoods\\n</td>\n",
       "    </tr>\n",
       "    <tr>\n",
       "      <th>4</th>\n",
       "      <td>M4A</td>\n",
       "      <td>North York</td>\n",
       "      <td>Victoria Village\\n</td>\n",
       "    </tr>\n",
       "    <tr>\n",
       "      <th>5</th>\n",
       "      <td>M5A</td>\n",
       "      <td>Downtown Toronto</td>\n",
       "      <td>Harbourfront\\n</td>\n",
       "    </tr>\n",
       "    <tr>\n",
       "      <th>6</th>\n",
       "      <td>M6A</td>\n",
       "      <td>North York</td>\n",
       "      <td>Lawrence Heights\\n</td>\n",
       "    </tr>\n",
       "    <tr>\n",
       "      <th>7</th>\n",
       "      <td>M6A</td>\n",
       "      <td>North York</td>\n",
       "      <td>Lawrence Manor\\n</td>\n",
       "    </tr>\n",
       "  </tbody>\n",
       "</table>\n",
       "</div>"
      ],
      "text/plain": [
       "  PostalCode           Borough        Neighborhood\n",
       "3        M3A        North York         Parkwoods\\n\n",
       "4        M4A        North York  Victoria Village\\n\n",
       "5        M5A  Downtown Toronto      Harbourfront\\n\n",
       "6        M6A        North York  Lawrence Heights\\n\n",
       "7        M6A        North York    Lawrence Manor\\n"
      ]
     },
     "execution_count": 6,
     "metadata": {},
     "output_type": "execute_result"
    }
   ],
   "source": [
    "df_neigh.columns = ['PostalCode', 'Borough','Neighborhood']\n",
    "df_neigh.drop(0, inplace = True)\n",
    "df_neigh.drop(df_neigh.loc[df_neigh['Borough']=='Not assigned'].index, inplace=True)\n",
    "df_neigh.head(5)"
   ]
  },
  {
   "cell_type": "code",
   "execution_count": 7,
   "metadata": {},
   "outputs": [
    {
     "data": {
      "text/html": [
       "<div>\n",
       "<style scoped>\n",
       "    .dataframe tbody tr th:only-of-type {\n",
       "        vertical-align: middle;\n",
       "    }\n",
       "\n",
       "    .dataframe tbody tr th {\n",
       "        vertical-align: top;\n",
       "    }\n",
       "\n",
       "    .dataframe thead th {\n",
       "        text-align: right;\n",
       "    }\n",
       "</style>\n",
       "<table border=\"1\" class=\"dataframe\">\n",
       "  <thead>\n",
       "    <tr style=\"text-align: right;\">\n",
       "      <th></th>\n",
       "      <th>PostalCode</th>\n",
       "      <th>Borough</th>\n",
       "      <th>Neighborhood</th>\n",
       "    </tr>\n",
       "  </thead>\n",
       "  <tbody>\n",
       "    <tr>\n",
       "      <th>3</th>\n",
       "      <td>M3A</td>\n",
       "      <td>North York</td>\n",
       "      <td>Parkwoods</td>\n",
       "    </tr>\n",
       "    <tr>\n",
       "      <th>4</th>\n",
       "      <td>M4A</td>\n",
       "      <td>North York</td>\n",
       "      <td>Victoria Village</td>\n",
       "    </tr>\n",
       "    <tr>\n",
       "      <th>5</th>\n",
       "      <td>M5A</td>\n",
       "      <td>Downtown Toronto</td>\n",
       "      <td>Harbourfront</td>\n",
       "    </tr>\n",
       "    <tr>\n",
       "      <th>6</th>\n",
       "      <td>M6A</td>\n",
       "      <td>North York</td>\n",
       "      <td>Lawrence Heights</td>\n",
       "    </tr>\n",
       "    <tr>\n",
       "      <th>7</th>\n",
       "      <td>M6A</td>\n",
       "      <td>North York</td>\n",
       "      <td>Lawrence Manor</td>\n",
       "    </tr>\n",
       "  </tbody>\n",
       "</table>\n",
       "</div>"
      ],
      "text/plain": [
       "  PostalCode           Borough      Neighborhood\n",
       "3        M3A        North York         Parkwoods\n",
       "4        M4A        North York  Victoria Village\n",
       "5        M5A  Downtown Toronto      Harbourfront\n",
       "6        M6A        North York  Lawrence Heights\n",
       "7        M6A        North York    Lawrence Manor"
      ]
     },
     "execution_count": 7,
     "metadata": {},
     "output_type": "execute_result"
    }
   ],
   "source": [
    "df_neigh['Neighborhood'] = df_neigh['Neighborhood'].map(lambda x: x.rstrip('\\n'))\n",
    "df_neigh.head(5)"
   ]
  },
  {
   "cell_type": "markdown",
   "metadata": {},
   "source": [
    "- Grouping into Boroughs"
   ]
  },
  {
   "cell_type": "code",
   "execution_count": 8,
   "metadata": {},
   "outputs": [
    {
     "data": {
      "text/html": [
       "<div>\n",
       "<style scoped>\n",
       "    .dataframe tbody tr th:only-of-type {\n",
       "        vertical-align: middle;\n",
       "    }\n",
       "\n",
       "    .dataframe tbody tr th {\n",
       "        vertical-align: top;\n",
       "    }\n",
       "\n",
       "    .dataframe thead th {\n",
       "        text-align: right;\n",
       "    }\n",
       "</style>\n",
       "<table border=\"1\" class=\"dataframe\">\n",
       "  <thead>\n",
       "    <tr style=\"text-align: right;\">\n",
       "      <th></th>\n",
       "      <th>PostalCode</th>\n",
       "      <th>Borough</th>\n",
       "      <th>Neighborhood</th>\n",
       "    </tr>\n",
       "  </thead>\n",
       "  <tbody>\n",
       "    <tr>\n",
       "      <th>0</th>\n",
       "      <td>M1B</td>\n",
       "      <td>Scarborough</td>\n",
       "      <td>Rouge,Malvern</td>\n",
       "    </tr>\n",
       "    <tr>\n",
       "      <th>1</th>\n",
       "      <td>M1C</td>\n",
       "      <td>Scarborough</td>\n",
       "      <td>Highland Creek,Rouge Hill,Port Union</td>\n",
       "    </tr>\n",
       "    <tr>\n",
       "      <th>2</th>\n",
       "      <td>M1E</td>\n",
       "      <td>Scarborough</td>\n",
       "      <td>Guildwood,Morningside,West Hill</td>\n",
       "    </tr>\n",
       "    <tr>\n",
       "      <th>3</th>\n",
       "      <td>M1G</td>\n",
       "      <td>Scarborough</td>\n",
       "      <td>Woburn</td>\n",
       "    </tr>\n",
       "    <tr>\n",
       "      <th>4</th>\n",
       "      <td>M1H</td>\n",
       "      <td>Scarborough</td>\n",
       "      <td>Cedarbrae</td>\n",
       "    </tr>\n",
       "  </tbody>\n",
       "</table>\n",
       "</div>"
      ],
      "text/plain": [
       "  PostalCode      Borough                          Neighborhood\n",
       "0        M1B  Scarborough                         Rouge,Malvern\n",
       "1        M1C  Scarborough  Highland Creek,Rouge Hill,Port Union\n",
       "2        M1E  Scarborough       Guildwood,Morningside,West Hill\n",
       "3        M1G  Scarborough                                Woburn\n",
       "4        M1H  Scarborough                             Cedarbrae"
      ]
     },
     "execution_count": 8,
     "metadata": {},
     "output_type": "execute_result"
    }
   ],
   "source": [
    "df_tor = df_neigh.astype(str).groupby('PostalCode').agg(lambda x: ','.join(x.unique()))\n",
    "df_tor.reset_index(inplace = True) \n",
    "df_tor.head(5)"
   ]
  },
  {
   "cell_type": "code",
   "execution_count": 9,
   "metadata": {},
   "outputs": [
    {
     "data": {
      "text/html": [
       "<div>\n",
       "<style scoped>\n",
       "    .dataframe tbody tr th:only-of-type {\n",
       "        vertical-align: middle;\n",
       "    }\n",
       "\n",
       "    .dataframe tbody tr th {\n",
       "        vertical-align: top;\n",
       "    }\n",
       "\n",
       "    .dataframe thead th {\n",
       "        text-align: right;\n",
       "    }\n",
       "</style>\n",
       "<table border=\"1\" class=\"dataframe\">\n",
       "  <thead>\n",
       "    <tr style=\"text-align: right;\">\n",
       "      <th></th>\n",
       "      <th>PostalCode</th>\n",
       "      <th>Borough</th>\n",
       "      <th>Neighborhood</th>\n",
       "    </tr>\n",
       "  </thead>\n",
       "  <tbody>\n",
       "    <tr>\n",
       "      <th>0</th>\n",
       "      <td>M1B</td>\n",
       "      <td>Scarborough</td>\n",
       "      <td>Rouge,Malvern</td>\n",
       "    </tr>\n",
       "    <tr>\n",
       "      <th>1</th>\n",
       "      <td>M1C</td>\n",
       "      <td>Scarborough</td>\n",
       "      <td>Highland Creek,Rouge Hill,Port Union</td>\n",
       "    </tr>\n",
       "    <tr>\n",
       "      <th>2</th>\n",
       "      <td>M1E</td>\n",
       "      <td>Scarborough</td>\n",
       "      <td>Guildwood,Morningside,West Hill</td>\n",
       "    </tr>\n",
       "    <tr>\n",
       "      <th>3</th>\n",
       "      <td>M1G</td>\n",
       "      <td>Scarborough</td>\n",
       "      <td>Woburn</td>\n",
       "    </tr>\n",
       "    <tr>\n",
       "      <th>4</th>\n",
       "      <td>M1H</td>\n",
       "      <td>Scarborough</td>\n",
       "      <td>Cedarbrae</td>\n",
       "    </tr>\n",
       "    <tr>\n",
       "      <th>5</th>\n",
       "      <td>M1J</td>\n",
       "      <td>Scarborough</td>\n",
       "      <td>Scarborough Village</td>\n",
       "    </tr>\n",
       "    <tr>\n",
       "      <th>6</th>\n",
       "      <td>M1K</td>\n",
       "      <td>Scarborough</td>\n",
       "      <td>East Birchmount Park,Ionview,Kennedy Park</td>\n",
       "    </tr>\n",
       "    <tr>\n",
       "      <th>7</th>\n",
       "      <td>M1L</td>\n",
       "      <td>Scarborough</td>\n",
       "      <td>Clairlea,Golden Mile,Oakridge</td>\n",
       "    </tr>\n",
       "    <tr>\n",
       "      <th>8</th>\n",
       "      <td>M1M</td>\n",
       "      <td>Scarborough</td>\n",
       "      <td>Cliffcrest,Cliffside,Scarborough Village West</td>\n",
       "    </tr>\n",
       "    <tr>\n",
       "      <th>9</th>\n",
       "      <td>M1N</td>\n",
       "      <td>Scarborough</td>\n",
       "      <td>Birch Cliff,Cliffside West</td>\n",
       "    </tr>\n",
       "  </tbody>\n",
       "</table>\n",
       "</div>"
      ],
      "text/plain": [
       "  PostalCode      Borough                                   Neighborhood\n",
       "0        M1B  Scarborough                                  Rouge,Malvern\n",
       "1        M1C  Scarborough           Highland Creek,Rouge Hill,Port Union\n",
       "2        M1E  Scarborough                Guildwood,Morningside,West Hill\n",
       "3        M1G  Scarborough                                         Woburn\n",
       "4        M1H  Scarborough                                      Cedarbrae\n",
       "5        M1J  Scarborough                            Scarborough Village\n",
       "6        M1K  Scarborough      East Birchmount Park,Ionview,Kennedy Park\n",
       "7        M1L  Scarborough                  Clairlea,Golden Mile,Oakridge\n",
       "8        M1M  Scarborough  Cliffcrest,Cliffside,Scarborough Village West\n",
       "9        M1N  Scarborough                     Birch Cliff,Cliffside West"
      ]
     },
     "execution_count": 9,
     "metadata": {},
     "output_type": "execute_result"
    }
   ],
   "source": [
    "df_tor['Neighborhood'].replace(\"Not assigned\", np.nan, inplace = True)\n",
    "df_tor.Neighborhood.fillna(df_tor.Borough, inplace=True)\n",
    "df_tor.head(10)"
   ]
  },
  {
   "cell_type": "markdown",
   "metadata": {},
   "source": [
    "- Sorting by neighbourhoods"
   ]
  },
  {
   "cell_type": "code",
   "execution_count": 10,
   "metadata": {},
   "outputs": [
    {
     "data": {
      "text/html": [
       "<div>\n",
       "<style scoped>\n",
       "    .dataframe tbody tr th:only-of-type {\n",
       "        vertical-align: middle;\n",
       "    }\n",
       "\n",
       "    .dataframe tbody tr th {\n",
       "        vertical-align: top;\n",
       "    }\n",
       "\n",
       "    .dataframe thead th {\n",
       "        text-align: right;\n",
       "    }\n",
       "</style>\n",
       "<table border=\"1\" class=\"dataframe\">\n",
       "  <thead>\n",
       "    <tr style=\"text-align: right;\">\n",
       "      <th></th>\n",
       "      <th>PostalCode</th>\n",
       "      <th>Borough</th>\n",
       "      <th>Neighborhood</th>\n",
       "    </tr>\n",
       "  </thead>\n",
       "  <tbody>\n",
       "    <tr>\n",
       "      <th>58</th>\n",
       "      <td>M5H</td>\n",
       "      <td>Downtown Toronto</td>\n",
       "      <td>Adelaide,King,Richmond</td>\n",
       "    </tr>\n",
       "    <tr>\n",
       "      <th>12</th>\n",
       "      <td>M1S</td>\n",
       "      <td>Scarborough</td>\n",
       "      <td>Agincourt</td>\n",
       "    </tr>\n",
       "    <tr>\n",
       "      <th>14</th>\n",
       "      <td>M1V</td>\n",
       "      <td>Scarborough</td>\n",
       "      <td>Agincourt North,L'Amoreaux East,Milliken,Steel...</td>\n",
       "    </tr>\n",
       "    <tr>\n",
       "      <th>101</th>\n",
       "      <td>M9V</td>\n",
       "      <td>Etobicoke</td>\n",
       "      <td>Albion Gardens,Beaumond Heights,Humbergate,Jam...</td>\n",
       "    </tr>\n",
       "    <tr>\n",
       "      <th>89</th>\n",
       "      <td>M8W</td>\n",
       "      <td>Etobicoke</td>\n",
       "      <td>Alderwood,Long Branch</td>\n",
       "    </tr>\n",
       "    <tr>\n",
       "      <th>28</th>\n",
       "      <td>M3H</td>\n",
       "      <td>North York</td>\n",
       "      <td>Bathurst Manor,Downsview North,Wilson Heights</td>\n",
       "    </tr>\n",
       "    <tr>\n",
       "      <th>19</th>\n",
       "      <td>M2K</td>\n",
       "      <td>North York</td>\n",
       "      <td>Bayview Village</td>\n",
       "    </tr>\n",
       "    <tr>\n",
       "      <th>62</th>\n",
       "      <td>M5M</td>\n",
       "      <td>North York</td>\n",
       "      <td>Bedford Park,Lawrence Manor East</td>\n",
       "    </tr>\n",
       "    <tr>\n",
       "      <th>56</th>\n",
       "      <td>M5E</td>\n",
       "      <td>Downtown Toronto</td>\n",
       "      <td>Berczy Park</td>\n",
       "    </tr>\n",
       "    <tr>\n",
       "      <th>9</th>\n",
       "      <td>M1N</td>\n",
       "      <td>Scarborough</td>\n",
       "      <td>Birch Cliff,Cliffside West</td>\n",
       "    </tr>\n",
       "  </tbody>\n",
       "</table>\n",
       "</div>"
      ],
      "text/plain": [
       "    PostalCode           Borough  \\\n",
       "58         M5H  Downtown Toronto   \n",
       "12         M1S       Scarborough   \n",
       "14         M1V       Scarborough   \n",
       "101        M9V         Etobicoke   \n",
       "89         M8W         Etobicoke   \n",
       "28         M3H        North York   \n",
       "19         M2K        North York   \n",
       "62         M5M        North York   \n",
       "56         M5E  Downtown Toronto   \n",
       "9          M1N       Scarborough   \n",
       "\n",
       "                                          Neighborhood  \n",
       "58                              Adelaide,King,Richmond  \n",
       "12                                           Agincourt  \n",
       "14   Agincourt North,L'Amoreaux East,Milliken,Steel...  \n",
       "101  Albion Gardens,Beaumond Heights,Humbergate,Jam...  \n",
       "89                               Alderwood,Long Branch  \n",
       "28       Bathurst Manor,Downsview North,Wilson Heights  \n",
       "19                                     Bayview Village  \n",
       "62                    Bedford Park,Lawrence Manor East  \n",
       "56                                         Berczy Park  \n",
       "9                           Birch Cliff,Cliffside West  "
      ]
     },
     "execution_count": 10,
     "metadata": {},
     "output_type": "execute_result"
    }
   ],
   "source": [
    "toronto_set = df_tor.sort_values(by=['Neighborhood'])\n",
    "toronto_set.head(10)"
   ]
  },
  {
   "cell_type": "markdown",
   "metadata": {},
   "source": [
    "- Calculating the size of the dataset"
   ]
  },
  {
   "cell_type": "code",
   "execution_count": 11,
   "metadata": {},
   "outputs": [
    {
     "data": {
      "text/plain": [
       "(103, 3)"
      ]
     },
     "execution_count": 11,
     "metadata": {},
     "output_type": "execute_result"
    }
   ],
   "source": [
    "toronto_set.shape"
   ]
  },
  {
   "cell_type": "markdown",
   "metadata": {},
   "source": [
    "## Part II of the Assignment: Adding the Geospatial data"
   ]
  },
  {
   "cell_type": "markdown",
   "metadata": {},
   "source": [
    "- Import libraries"
   ]
  },
  {
   "cell_type": "code",
   "execution_count": 13,
   "metadata": {},
   "outputs": [],
   "source": [
    "import numpy as np \n",
    "import pandas as pd \n",
    "pd.set_option('display.max_columns', None)\n",
    "pd.set_option('display.max_rows', None)\n",
    "from geopy.geocoders import Nominatim\n",
    "import requests \n",
    "from pandas.io.json import json_normalize \n",
    "import json\n",
    "import matplotlib.cm as cm\n",
    "import matplotlib.colors as colors\n",
    "from sklearn.cluster import KMeans"
   ]
  },
  {
   "cell_type": "markdown",
   "metadata": {},
   "source": [
    "- instal and import folium"
   ]
  },
  {
   "cell_type": "code",
   "execution_count": 14,
   "metadata": {},
   "outputs": [
    {
     "name": "stdout",
     "output_type": "stream",
     "text": [
      "Solving environment: done\n",
      "\n",
      "## Package Plan ##\n",
      "\n",
      "  environment location: /opt/conda/envs/Python36\n",
      "\n",
      "  added / updated specs: \n",
      "    - folium\n",
      "\n",
      "\n",
      "The following packages will be downloaded:\n",
      "\n",
      "    package                    |            build\n",
      "    ---------------------------|-----------------\n",
      "    certifi-2019.11.28         |           py36_0         149 KB  conda-forge\n",
      "    folium-0.10.1              |             py_0          59 KB  conda-forge\n",
      "    openssl-1.1.1d             |       h516909a_0         2.1 MB  conda-forge\n",
      "    ca-certificates-2019.11.28 |       hecc5488_0         145 KB  conda-forge\n",
      "    branca-0.4.0               |             py_0          26 KB  conda-forge\n",
      "    vincent-0.4.4              |             py_1          28 KB  conda-forge\n",
      "    ------------------------------------------------------------\n",
      "                                           Total:         2.5 MB\n",
      "\n",
      "The following NEW packages will be INSTALLED:\n",
      "\n",
      "    branca:          0.4.0-py_0        conda-forge\n",
      "    folium:          0.10.1-py_0       conda-forge\n",
      "    vincent:         0.4.4-py_1        conda-forge\n",
      "\n",
      "The following packages will be UPDATED:\n",
      "\n",
      "    ca-certificates: 2019.11.27-0                  --> 2019.11.28-hecc5488_0 conda-forge\n",
      "    certifi:         2019.11.28-py36_0             --> 2019.11.28-py36_0     conda-forge\n",
      "\n",
      "The following packages will be DOWNGRADED:\n",
      "\n",
      "    openssl:         1.1.1d-h7b6447c_3             --> 1.1.1d-h516909a_0     conda-forge\n",
      "\n",
      "\n",
      "Downloading and Extracting Packages\n",
      "certifi-2019.11.28   | 149 KB    | ##################################### | 100% \n",
      "folium-0.10.1        | 59 KB     | ##################################### | 100% \n",
      "openssl-1.1.1d       | 2.1 MB    | ##################################### | 100% \n",
      "ca-certificates-2019 | 145 KB    | ##################################### | 100% \n",
      "branca-0.4.0         | 26 KB     | ##################################### | 100% \n",
      "vincent-0.4.4        | 28 KB     | ##################################### | 100% \n",
      "Preparing transaction: done\n",
      "Verifying transaction: done\n",
      "Executing transaction: done\n"
     ]
    }
   ],
   "source": [
    "!conda install folium -c conda-forge"
   ]
  },
  {
   "cell_type": "code",
   "execution_count": 15,
   "metadata": {},
   "outputs": [],
   "source": [
    "import folium"
   ]
  },
  {
   "cell_type": "markdown",
   "metadata": {},
   "source": [
    "- Download data "
   ]
  },
  {
   "cell_type": "code",
   "execution_count": 16,
   "metadata": {},
   "outputs": [
    {
     "name": "stdout",
     "output_type": "stream",
     "text": [
      "--2020-03-02 05:29:05--  https://cocl.us/Geospatial_data\n",
      "Resolving cocl.us (cocl.us)... 158.85.108.86, 169.48.113.194, 158.85.108.83\n",
      "Connecting to cocl.us (cocl.us)|158.85.108.86|:443... connected.\n",
      "HTTP request sent, awaiting response... 301 Moved Permanently\n",
      "Location: https://ibm.box.com/shared/static/9afzr83pps4pwf2smjjcf1y5mvgb18rr.csv [following]\n",
      "--2020-03-02 05:29:06--  https://ibm.box.com/shared/static/9afzr83pps4pwf2smjjcf1y5mvgb18rr.csv\n",
      "Resolving ibm.box.com (ibm.box.com)... 107.152.27.197, 107.152.26.197\n",
      "Connecting to ibm.box.com (ibm.box.com)|107.152.27.197|:443... connected.\n",
      "HTTP request sent, awaiting response... 301 Moved Permanently\n",
      "Location: /public/static/9afzr83pps4pwf2smjjcf1y5mvgb18rr.csv [following]\n",
      "--2020-03-02 05:29:06--  https://ibm.box.com/public/static/9afzr83pps4pwf2smjjcf1y5mvgb18rr.csv\n",
      "Reusing existing connection to ibm.box.com:443.\n",
      "HTTP request sent, awaiting response... 301 Moved Permanently\n",
      "Location: https://ibm.ent.box.com/public/static/9afzr83pps4pwf2smjjcf1y5mvgb18rr.csv [following]\n",
      "--2020-03-02 05:29:07--  https://ibm.ent.box.com/public/static/9afzr83pps4pwf2smjjcf1y5mvgb18rr.csv\n",
      "Resolving ibm.ent.box.com (ibm.ent.box.com)... 185.235.236.211\n",
      "Connecting to ibm.ent.box.com (ibm.ent.box.com)|185.235.236.211|:443... connected.\n",
      "HTTP request sent, awaiting response... 302 Found\n",
      "Location: https://public.boxcloud.com/d/1/b1!KbHR70VrE1FknTdb7nI36-r3rlepBbZGbVAT-Dbzqm_0p4q21Ocl-os9uPHLgICw1tE4kZ4kXh-kYkjwlZQnwYhGk707AGhKefhAfhbIIH1DizzIkY-iuyQhwKypYvN0b2gX9BvddJGOj0Np7y3uFpvaVnIg4afxWrXsfwiLJC62JJqKaF4uYe0RaOZSrc94DnuHyFZGXorx7z9-LhKbfoajJqbVA2BQAlmkNTayO7oXL-ua_3XWq7WVXojiuM9gnSmHodGX3hOxaRpaTlsHoiQZ2ro1iYJzeQvW2PmYMXn2qplCXk_fBhZSvlUBDPuV682sGBDsmLsr_mJGtD7G67LO0vI9NFKFTDSQnTR2mmyN1BxLY79OG1WPe2xfZW0vFmCyajJzlNiuCeLkM9TKnz1LRcwH0EVLQvNTOJVFTEZpIpOaMc1Ng5XkpSBkzpE1HyvENPIC2A4qK8gS357TQS0A2m0FabJE6MNRV7tNnB5WSll-XjoUrvUhlEYx9_hNUTBT0oRIpCHpqEc7WjMJk-m1_K_jinEssbmVNUVmAZPFb37g6-wlrJuTDUPwK2ZmvJEXVQdZtHsoWdcupqiV2EWu-H9x87vBjOpp5UfJwFEVlLlbRMByYnZL1gNUiizLUyK6r-GZXuTtFQAxWzysmcJQicu4Sf4JG7KERg2QsXJY94iZf8EGUV1vlmDAmRemB_Jg328wMtFhRKGH29QPIEgKQ5mm2GBwB1wNS7czwah_g8ESFUmEnbTZGQKnS7W6IUaqucFv89OCCng1eNoKEnJb7O55hH2Un2umaiz0mfxnS19j9BSV9htnX0Ghmzd3patMlc95nnRJlFFUu8qWyqdKRl2FxwJ-mPc4O3a-rCVuItpgLnt8S0CbRnc3DzPzM9H_NxHmvhppmznbFOkRQlDAe_3Y8f9NR-lcbKPlF8d2D084KKx8RQZLpHENZZBx5EJEPrGk2pV4N8TsunvhVYm-wbHwHeA3ol_b6Mt3ZfRRVTXfhr8oPq4Nnxf3NcKfj0fFl2zzMEGl3dRGmVyLrrD6dzlpZxOi4lwjG-n5OiAMIipK4LzTHMWg1QBr6ukKmqy5n2ZmSa8LOEH56G1_2Qqv1IBqBkeUteAOAb_noE2su3FHO54MeLBGnulHnKQZ0UZsPtyEHW_sklWSV9rMvrbPwKaRDTzSp0gLPLnh-Flmeuw5ptQVIhexbYCRVlBbhvUuPGc0d5sfu5WWPWeUYR_9H3fr5SLFp5jwZTkHawKpZymxSfOwinCdc2ui6TI18avRL0f51OVAkQOtUj_YPMj2cZ-_zkf9nsqM4wuTGNMycdH9mMjfORzJKNU89Bq6axf4KmnLbHvegoW6WrzWeag89Ax_AwSey2t9wS15UHKslyD_k86Wn9RCC7c8ww../download [following]\n",
      "--2020-03-02 05:29:07--  https://public.boxcloud.com/d/1/b1!KbHR70VrE1FknTdb7nI36-r3rlepBbZGbVAT-Dbzqm_0p4q21Ocl-os9uPHLgICw1tE4kZ4kXh-kYkjwlZQnwYhGk707AGhKefhAfhbIIH1DizzIkY-iuyQhwKypYvN0b2gX9BvddJGOj0Np7y3uFpvaVnIg4afxWrXsfwiLJC62JJqKaF4uYe0RaOZSrc94DnuHyFZGXorx7z9-LhKbfoajJqbVA2BQAlmkNTayO7oXL-ua_3XWq7WVXojiuM9gnSmHodGX3hOxaRpaTlsHoiQZ2ro1iYJzeQvW2PmYMXn2qplCXk_fBhZSvlUBDPuV682sGBDsmLsr_mJGtD7G67LO0vI9NFKFTDSQnTR2mmyN1BxLY79OG1WPe2xfZW0vFmCyajJzlNiuCeLkM9TKnz1LRcwH0EVLQvNTOJVFTEZpIpOaMc1Ng5XkpSBkzpE1HyvENPIC2A4qK8gS357TQS0A2m0FabJE6MNRV7tNnB5WSll-XjoUrvUhlEYx9_hNUTBT0oRIpCHpqEc7WjMJk-m1_K_jinEssbmVNUVmAZPFb37g6-wlrJuTDUPwK2ZmvJEXVQdZtHsoWdcupqiV2EWu-H9x87vBjOpp5UfJwFEVlLlbRMByYnZL1gNUiizLUyK6r-GZXuTtFQAxWzysmcJQicu4Sf4JG7KERg2QsXJY94iZf8EGUV1vlmDAmRemB_Jg328wMtFhRKGH29QPIEgKQ5mm2GBwB1wNS7czwah_g8ESFUmEnbTZGQKnS7W6IUaqucFv89OCCng1eNoKEnJb7O55hH2Un2umaiz0mfxnS19j9BSV9htnX0Ghmzd3patMlc95nnRJlFFUu8qWyqdKRl2FxwJ-mPc4O3a-rCVuItpgLnt8S0CbRnc3DzPzM9H_NxHmvhppmznbFOkRQlDAe_3Y8f9NR-lcbKPlF8d2D084KKx8RQZLpHENZZBx5EJEPrGk2pV4N8TsunvhVYm-wbHwHeA3ol_b6Mt3ZfRRVTXfhr8oPq4Nnxf3NcKfj0fFl2zzMEGl3dRGmVyLrrD6dzlpZxOi4lwjG-n5OiAMIipK4LzTHMWg1QBr6ukKmqy5n2ZmSa8LOEH56G1_2Qqv1IBqBkeUteAOAb_noE2su3FHO54MeLBGnulHnKQZ0UZsPtyEHW_sklWSV9rMvrbPwKaRDTzSp0gLPLnh-Flmeuw5ptQVIhexbYCRVlBbhvUuPGc0d5sfu5WWPWeUYR_9H3fr5SLFp5jwZTkHawKpZymxSfOwinCdc2ui6TI18avRL0f51OVAkQOtUj_YPMj2cZ-_zkf9nsqM4wuTGNMycdH9mMjfORzJKNU89Bq6axf4KmnLbHvegoW6WrzWeag89Ax_AwSey2t9wS15UHKslyD_k86Wn9RCC7c8ww../download\n",
      "Resolving public.boxcloud.com (public.boxcloud.com)... 107.152.25.200\n",
      "Connecting to public.boxcloud.com (public.boxcloud.com)|107.152.25.200|:443... connected.\n",
      "HTTP request sent, awaiting response... 200 OK\n",
      "Length: 2891 (2.8K) [text/csv]\n",
      "Saving to: ‘Geospatial_data.csv’\n",
      "\n",
      "100%[======================================>] 2,891       --.-K/s   in 0s      \n",
      "\n",
      "2020-03-02 05:29:08 (330 MB/s) - ‘Geospatial_data.csv’ saved [2891/2891]\n",
      "\n"
     ]
    }
   ],
   "source": [
    "!wget -O Geospatial_data.csv https://cocl.us/Geospatial_data"
   ]
  },
  {
   "cell_type": "markdown",
   "metadata": {},
   "source": [
    "- Read data into dataframe"
   ]
  },
  {
   "cell_type": "code",
   "execution_count": 18,
   "metadata": {},
   "outputs": [
    {
     "data": {
      "text/html": [
       "<div>\n",
       "<style scoped>\n",
       "    .dataframe tbody tr th:only-of-type {\n",
       "        vertical-align: middle;\n",
       "    }\n",
       "\n",
       "    .dataframe tbody tr th {\n",
       "        vertical-align: top;\n",
       "    }\n",
       "\n",
       "    .dataframe thead th {\n",
       "        text-align: right;\n",
       "    }\n",
       "</style>\n",
       "<table border=\"1\" class=\"dataframe\">\n",
       "  <thead>\n",
       "    <tr style=\"text-align: right;\">\n",
       "      <th></th>\n",
       "      <th>Postal Code</th>\n",
       "      <th>Latitude</th>\n",
       "      <th>Longitude</th>\n",
       "    </tr>\n",
       "  </thead>\n",
       "  <tbody>\n",
       "    <tr>\n",
       "      <th>0</th>\n",
       "      <td>M1B</td>\n",
       "      <td>43.806686</td>\n",
       "      <td>-79.194353</td>\n",
       "    </tr>\n",
       "    <tr>\n",
       "      <th>1</th>\n",
       "      <td>M1C</td>\n",
       "      <td>43.784535</td>\n",
       "      <td>-79.160497</td>\n",
       "    </tr>\n",
       "    <tr>\n",
       "      <th>2</th>\n",
       "      <td>M1E</td>\n",
       "      <td>43.763573</td>\n",
       "      <td>-79.188711</td>\n",
       "    </tr>\n",
       "    <tr>\n",
       "      <th>3</th>\n",
       "      <td>M1G</td>\n",
       "      <td>43.770992</td>\n",
       "      <td>-79.216917</td>\n",
       "    </tr>\n",
       "    <tr>\n",
       "      <th>4</th>\n",
       "      <td>M1H</td>\n",
       "      <td>43.773136</td>\n",
       "      <td>-79.239476</td>\n",
       "    </tr>\n",
       "  </tbody>\n",
       "</table>\n",
       "</div>"
      ],
      "text/plain": [
       "  Postal Code   Latitude  Longitude\n",
       "0         M1B  43.806686 -79.194353\n",
       "1         M1C  43.784535 -79.160497\n",
       "2         M1E  43.763573 -79.188711\n",
       "3         M1G  43.770992 -79.216917\n",
       "4         M1H  43.773136 -79.239476"
      ]
     },
     "execution_count": 18,
     "metadata": {},
     "output_type": "execute_result"
    }
   ],
   "source": [
    "df_cord = pd.read_csv('Geospatial_data.csv')\n",
    "df_cord.head(5)"
   ]
  },
  {
   "cell_type": "code",
   "execution_count": 19,
   "metadata": {},
   "outputs": [
    {
     "data": {
      "text/html": [
       "<div>\n",
       "<style scoped>\n",
       "    .dataframe tbody tr th:only-of-type {\n",
       "        vertical-align: middle;\n",
       "    }\n",
       "\n",
       "    .dataframe tbody tr th {\n",
       "        vertical-align: top;\n",
       "    }\n",
       "\n",
       "    .dataframe thead th {\n",
       "        text-align: right;\n",
       "    }\n",
       "</style>\n",
       "<table border=\"1\" class=\"dataframe\">\n",
       "  <thead>\n",
       "    <tr style=\"text-align: right;\">\n",
       "      <th></th>\n",
       "      <th>PostalCode</th>\n",
       "      <th>Borough</th>\n",
       "      <th>Neighborhood</th>\n",
       "    </tr>\n",
       "  </thead>\n",
       "  <tbody>\n",
       "    <tr>\n",
       "      <th>0</th>\n",
       "      <td>M1B</td>\n",
       "      <td>Scarborough</td>\n",
       "      <td>Rouge,Malvern</td>\n",
       "    </tr>\n",
       "    <tr>\n",
       "      <th>1</th>\n",
       "      <td>M1C</td>\n",
       "      <td>Scarborough</td>\n",
       "      <td>Highland Creek,Rouge Hill,Port Union</td>\n",
       "    </tr>\n",
       "    <tr>\n",
       "      <th>2</th>\n",
       "      <td>M1E</td>\n",
       "      <td>Scarborough</td>\n",
       "      <td>Guildwood,Morningside,West Hill</td>\n",
       "    </tr>\n",
       "    <tr>\n",
       "      <th>3</th>\n",
       "      <td>M1G</td>\n",
       "      <td>Scarborough</td>\n",
       "      <td>Woburn</td>\n",
       "    </tr>\n",
       "    <tr>\n",
       "      <th>4</th>\n",
       "      <td>M1H</td>\n",
       "      <td>Scarborough</td>\n",
       "      <td>Cedarbrae</td>\n",
       "    </tr>\n",
       "  </tbody>\n",
       "</table>\n",
       "</div>"
      ],
      "text/plain": [
       "  PostalCode      Borough                          Neighborhood\n",
       "0        M1B  Scarborough                         Rouge,Malvern\n",
       "1        M1C  Scarborough  Highland Creek,Rouge Hill,Port Union\n",
       "2        M1E  Scarborough       Guildwood,Morningside,West Hill\n",
       "3        M1G  Scarborough                                Woburn\n",
       "4        M1H  Scarborough                             Cedarbrae"
      ]
     },
     "execution_count": 19,
     "metadata": {},
     "output_type": "execute_result"
    }
   ],
   "source": [
    "df_tor.head(5)"
   ]
  },
  {
   "cell_type": "code",
   "execution_count": 20,
   "metadata": {},
   "outputs": [
    {
     "data": {
      "text/plain": [
       "(103, 3)"
      ]
     },
     "execution_count": 20,
     "metadata": {},
     "output_type": "execute_result"
    }
   ],
   "source": [
    "df_cord.shape\n",
    "df_tor.shape"
   ]
  },
  {
   "cell_type": "markdown",
   "metadata": {},
   "source": [
    "Both the tables' data were found to be of same size, hence they can be merged"
   ]
  },
  {
   "cell_type": "code",
   "execution_count": 21,
   "metadata": {},
   "outputs": [
    {
     "data": {
      "text/html": [
       "<div>\n",
       "<style scoped>\n",
       "    .dataframe tbody tr th:only-of-type {\n",
       "        vertical-align: middle;\n",
       "    }\n",
       "\n",
       "    .dataframe tbody tr th {\n",
       "        vertical-align: top;\n",
       "    }\n",
       "\n",
       "    .dataframe thead th {\n",
       "        text-align: right;\n",
       "    }\n",
       "</style>\n",
       "<table border=\"1\" class=\"dataframe\">\n",
       "  <thead>\n",
       "    <tr style=\"text-align: right;\">\n",
       "      <th></th>\n",
       "      <th>PostalCode</th>\n",
       "      <th>Borough</th>\n",
       "      <th>Neighborhood</th>\n",
       "      <th>Postal Code</th>\n",
       "      <th>Latitude</th>\n",
       "      <th>Longitude</th>\n",
       "    </tr>\n",
       "  </thead>\n",
       "  <tbody>\n",
       "    <tr>\n",
       "      <th>0</th>\n",
       "      <td>M1B</td>\n",
       "      <td>Scarborough</td>\n",
       "      <td>Rouge,Malvern</td>\n",
       "      <td>M1B</td>\n",
       "      <td>43.806686</td>\n",
       "      <td>-79.194353</td>\n",
       "    </tr>\n",
       "    <tr>\n",
       "      <th>1</th>\n",
       "      <td>M1C</td>\n",
       "      <td>Scarborough</td>\n",
       "      <td>Highland Creek,Rouge Hill,Port Union</td>\n",
       "      <td>M1C</td>\n",
       "      <td>43.784535</td>\n",
       "      <td>-79.160497</td>\n",
       "    </tr>\n",
       "    <tr>\n",
       "      <th>2</th>\n",
       "      <td>M1E</td>\n",
       "      <td>Scarborough</td>\n",
       "      <td>Guildwood,Morningside,West Hill</td>\n",
       "      <td>M1E</td>\n",
       "      <td>43.763573</td>\n",
       "      <td>-79.188711</td>\n",
       "    </tr>\n",
       "    <tr>\n",
       "      <th>3</th>\n",
       "      <td>M1G</td>\n",
       "      <td>Scarborough</td>\n",
       "      <td>Woburn</td>\n",
       "      <td>M1G</td>\n",
       "      <td>43.770992</td>\n",
       "      <td>-79.216917</td>\n",
       "    </tr>\n",
       "    <tr>\n",
       "      <th>4</th>\n",
       "      <td>M1H</td>\n",
       "      <td>Scarborough</td>\n",
       "      <td>Cedarbrae</td>\n",
       "      <td>M1H</td>\n",
       "      <td>43.773136</td>\n",
       "      <td>-79.239476</td>\n",
       "    </tr>\n",
       "  </tbody>\n",
       "</table>\n",
       "</div>"
      ],
      "text/plain": [
       "  PostalCode      Borough                          Neighborhood Postal Code  \\\n",
       "0        M1B  Scarborough                         Rouge,Malvern         M1B   \n",
       "1        M1C  Scarborough  Highland Creek,Rouge Hill,Port Union         M1C   \n",
       "2        M1E  Scarborough       Guildwood,Morningside,West Hill         M1E   \n",
       "3        M1G  Scarborough                                Woburn         M1G   \n",
       "4        M1H  Scarborough                             Cedarbrae         M1H   \n",
       "\n",
       "    Latitude  Longitude  \n",
       "0  43.806686 -79.194353  \n",
       "1  43.784535 -79.160497  \n",
       "2  43.763573 -79.188711  \n",
       "3  43.770992 -79.216917  \n",
       "4  43.773136 -79.239476  "
      ]
     },
     "execution_count": 21,
     "metadata": {},
     "output_type": "execute_result"
    }
   ],
   "source": [
    "df_toronto = pd.concat([df_tor, df_cord], axis = 1)\n",
    "df_toronto.head(5)"
   ]
  },
  {
   "cell_type": "markdown",
   "metadata": {},
   "source": [
    "## Part III: Download map and explore clusters"
   ]
  },
  {
   "cell_type": "markdown",
   "metadata": {},
   "source": [
    "- Use geopy to get latitude and longitude"
   ]
  },
  {
   "cell_type": "code",
   "execution_count": 22,
   "metadata": {},
   "outputs": [
    {
     "name": "stdout",
     "output_type": "stream",
     "text": [
      "The geograpical coordinate of Toronto are 43.653963, -79.387207.\n"
     ]
    }
   ],
   "source": [
    "address = 'Toronto, ON'\n",
    "geolocator = Nominatim(user_agent=\"toronto_explorer\")\n",
    "location = geolocator.geocode(address)\n",
    "latitude = location.latitude\n",
    "longitude = location.longitude\n",
    "print('The geograpical coordinate of Toronto are {}, {}.'.format(latitude, longitude))"
   ]
  },
  {
   "cell_type": "markdown",
   "metadata": {},
   "source": [
    "- find the map"
   ]
  },
  {
   "cell_type": "code",
   "execution_count": 23,
   "metadata": {},
   "outputs": [
    {
     "data": {
      "text/html": [
       "<div style=\"width:100%;\"><div style=\"position:relative;width:100%;height:0;padding-bottom:60%;\"><iframe src=\"about:blank\" style=\"position:absolute;width:100%;height:100%;left:0;top:0;border:none !important;\" data-html=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 onload=\"this.contentDocument.open();this.contentDocument.write(atob(this.getAttribute('data-html')));this.contentDocument.close();\" allowfullscreen webkitallowfullscreen mozallowfullscreen></iframe></div></div>"
      ],
      "text/plain": [
       "<folium.folium.Map at 0x7f8808be4908>"
      ]
     },
     "execution_count": 23,
     "metadata": {},
     "output_type": "execute_result"
    }
   ],
   "source": [
    "map_toronto = folium.Map(location=[latitude, longitude], zoom_start=10)\n",
    "for lat, lng, borough, neighborhood in zip(df_toronto['Latitude'], df_toronto['Longitude'], df_toronto['Borough'], df_toronto['Neighborhood']):\n",
    "    label = '{}, {}'.format(neighborhood, borough)\n",
    "    label = folium.Popup(label, parse_html=True)\n",
    "    folium.CircleMarker(\n",
    "        [lat, lng],\n",
    "        radius=5,\n",
    "        popup=label,\n",
    "        color='blue',\n",
    "        fill=True,\n",
    "        fill_color='#3186cc',\n",
    "        fill_opacity=0.7,\n",
    "        parse_html=False).add_to(map_toronto)  \n",
    "map_toronto"
   ]
  },
  {
   "cell_type": "markdown",
   "metadata": {},
   "source": [
    "- Explore data in Scarbourough Borough"
   ]
  },
  {
   "cell_type": "code",
   "execution_count": 25,
   "metadata": {},
   "outputs": [
    {
     "data": {
      "text/html": [
       "<div>\n",
       "<style scoped>\n",
       "    .dataframe tbody tr th:only-of-type {\n",
       "        vertical-align: middle;\n",
       "    }\n",
       "\n",
       "    .dataframe tbody tr th {\n",
       "        vertical-align: top;\n",
       "    }\n",
       "\n",
       "    .dataframe thead th {\n",
       "        text-align: right;\n",
       "    }\n",
       "</style>\n",
       "<table border=\"1\" class=\"dataframe\">\n",
       "  <thead>\n",
       "    <tr style=\"text-align: right;\">\n",
       "      <th></th>\n",
       "      <th>PostalCode</th>\n",
       "      <th>Borough</th>\n",
       "      <th>Neighborhood</th>\n",
       "      <th>Postal Code</th>\n",
       "      <th>Latitude</th>\n",
       "      <th>Longitude</th>\n",
       "    </tr>\n",
       "  </thead>\n",
       "  <tbody>\n",
       "    <tr>\n",
       "      <th>0</th>\n",
       "      <td>M1B</td>\n",
       "      <td>Scarborough</td>\n",
       "      <td>Rouge,Malvern</td>\n",
       "      <td>M1B</td>\n",
       "      <td>43.806686</td>\n",
       "      <td>-79.194353</td>\n",
       "    </tr>\n",
       "    <tr>\n",
       "      <th>1</th>\n",
       "      <td>M1C</td>\n",
       "      <td>Scarborough</td>\n",
       "      <td>Highland Creek,Rouge Hill,Port Union</td>\n",
       "      <td>M1C</td>\n",
       "      <td>43.784535</td>\n",
       "      <td>-79.160497</td>\n",
       "    </tr>\n",
       "    <tr>\n",
       "      <th>2</th>\n",
       "      <td>M1E</td>\n",
       "      <td>Scarborough</td>\n",
       "      <td>Guildwood,Morningside,West Hill</td>\n",
       "      <td>M1E</td>\n",
       "      <td>43.763573</td>\n",
       "      <td>-79.188711</td>\n",
       "    </tr>\n",
       "    <tr>\n",
       "      <th>3</th>\n",
       "      <td>M1G</td>\n",
       "      <td>Scarborough</td>\n",
       "      <td>Woburn</td>\n",
       "      <td>M1G</td>\n",
       "      <td>43.770992</td>\n",
       "      <td>-79.216917</td>\n",
       "    </tr>\n",
       "    <tr>\n",
       "      <th>4</th>\n",
       "      <td>M1H</td>\n",
       "      <td>Scarborough</td>\n",
       "      <td>Cedarbrae</td>\n",
       "      <td>M1H</td>\n",
       "      <td>43.773136</td>\n",
       "      <td>-79.239476</td>\n",
       "    </tr>\n",
       "  </tbody>\n",
       "</table>\n",
       "</div>"
      ],
      "text/plain": [
       "  PostalCode      Borough                          Neighborhood Postal Code  \\\n",
       "0        M1B  Scarborough                         Rouge,Malvern         M1B   \n",
       "1        M1C  Scarborough  Highland Creek,Rouge Hill,Port Union         M1C   \n",
       "2        M1E  Scarborough       Guildwood,Morningside,West Hill         M1E   \n",
       "3        M1G  Scarborough                                Woburn         M1G   \n",
       "4        M1H  Scarborough                             Cedarbrae         M1H   \n",
       "\n",
       "    Latitude  Longitude  \n",
       "0  43.806686 -79.194353  \n",
       "1  43.784535 -79.160497  \n",
       "2  43.763573 -79.188711  \n",
       "3  43.770992 -79.216917  \n",
       "4  43.773136 -79.239476  "
      ]
     },
     "execution_count": 25,
     "metadata": {},
     "output_type": "execute_result"
    }
   ],
   "source": [
    "scarborough_data = df_toronto[df_toronto['Borough'\n",
    "] == 'Scarborough'].reset_index(drop=True)\n",
    "scarborough_data.head()"
   ]
  },
  {
   "cell_type": "markdown",
   "metadata": {},
   "source": [
    "- Get the geographical loation of Scarborough"
   ]
  },
  {
   "cell_type": "code",
   "execution_count": 27,
   "metadata": {},
   "outputs": [
    {
     "name": "stdout",
     "output_type": "stream",
     "text": [
      "The geograpical coordinates of Scarborough,Toronto are 43.773077, -79.257774.\n"
     ]
    }
   ],
   "source": [
    "address = 'Scarborough, Toronto'\n",
    "geolocator = Nominatim(user_agent=\"toronto_explorer\")\n",
    "location = geolocator.geocode(address)\n",
    "latitude = location.latitude\n",
    "longitude = location.longitude\n",
    "print('The geograpical coordinates of Scarborough,Toronto are {}, {}.'.format(latitude, longitude))"
   ]
  },
  {
   "cell_type": "markdown",
   "metadata": {},
   "source": [
    "- CREATING MAP of SCARBOROUGH"
   ]
  },
  {
   "cell_type": "code",
   "execution_count": 28,
   "metadata": {},
   "outputs": [
    {
     "data": {
      "text/html": [
       "<div style=\"width:100%;\"><div style=\"position:relative;width:100%;height:0;padding-bottom:60%;\"><iframe src=\"about:blank\" style=\"position:absolute;width:100%;height:100%;left:0;top:0;border:none !important;\" data-html=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 onload=\"this.contentDocument.open();this.contentDocument.write(atob(this.getAttribute('data-html')));this.contentDocument.close();\" allowfullscreen webkitallowfullscreen mozallowfullscreen></iframe></div></div>"
      ],
      "text/plain": [
       "<folium.folium.Map at 0x7f8808ae4748>"
      ]
     },
     "execution_count": 28,
     "metadata": {},
     "output_type": "execute_result"
    }
   ],
   "source": [
    "map_scarborough = folium.Map(location=[latitude, longitude], zoom_start=11)\n",
    "# add markers to map\n",
    "for lat, lng, label in zip(scarborough_data['Latitude'], scarborough_data['Longitude'], scarborough_data['Neighborhood']):\n",
    "    label = folium.Popup(label, parse_html=True)\n",
    "    folium.CircleMarker(\n",
    "        [lat, lng],\n",
    "        radius=5,\n",
    "        popup=label,\n",
    "        color='blue',\n",
    "        fill=True,\n",
    "        fill_color='#3186cc',\n",
    "        fill_opacity=0.7,\n",
    "        parse_html=False).add_to(map_scarborough)\n",
    "map_scarborough"
   ]
  },
  {
   "cell_type": "markdown",
   "metadata": {},
   "source": [
    "- Use Foursquare Credentials to segment the above "
   ]
  },
  {
   "cell_type": "code",
   "execution_count": 30,
   "metadata": {},
   "outputs": [
    {
     "name": "stdout",
     "output_type": "stream",
     "text": [
      "Your credentails:\n",
      "CLIENT_ID: XZ20NXF0P14MW0QPBEYAXOR2K1YDAVCFP22YN3IGNTKHGGZ5\n",
      "CLIENT_SECRET:IP5GBIKY3153FGDEKIZBJYXMHXLFEQIQP2VFQJAUTJO2XHE2\n"
     ]
    }
   ],
   "source": [
    "CLIENT_ID = 'XZ20NXF0P14MW0QPBEYAXOR2K1YDAVCFP22YN3IGNTKHGGZ5' # your Foursquare ID\n",
    "CLIENT_SECRET = 'IP5GBIKY3153FGDEKIZBJYXMHXLFEQIQP2VFQJAUTJO2XHE2' # your Foursquare Secret\n",
    "VERSION = '20190623' # Foursquare API version\n",
    "print('Your credentails:')\n",
    "print('CLIENT_ID: ' + CLIENT_ID)\n",
    "print('CLIENT_SECRET:' + CLIENT_SECRET)"
   ]
  },
  {
   "cell_type": "code",
   "execution_count": 31,
   "metadata": {},
   "outputs": [
    {
     "data": {
      "text/plain": [
       "'Cedarbrae'"
      ]
     },
     "execution_count": 31,
     "metadata": {},
     "output_type": "execute_result"
    }
   ],
   "source": [
    "scarborough_data.loc[4, 'Neighborhood']"
   ]
  },
  {
   "cell_type": "code",
   "execution_count": 33,
   "metadata": {},
   "outputs": [
    {
     "name": "stdout",
     "output_type": "stream",
     "text": [
      "Latitude and longitude values of Rouge,Malvern are 43.806686299999996, -79.19435340000001.\n"
     ]
    }
   ],
   "source": [
    "neighborhood_latitude = scarborough_data.loc[0, 'Latitude'] # neighborhood latitude value\n",
    "neighborhood_longitude = scarborough_data.loc[0, 'Longitude'] # neighborhood longitude value\n",
    "neighborhood_name = scarborough_data.loc[0, 'Neighborhood'] # neighborhood name\n",
    "print('Latitude and longitude values of {} are {}, {}.'.format(neighborhood_name,neighborhood_latitude,neighborhood_longitude))"
   ]
  },
  {
   "cell_type": "markdown",
   "metadata": {},
   "source": [
    "- Get the 50 venues in a radius of 500 meters"
   ]
  },
  {
   "cell_type": "code",
   "execution_count": 34,
   "metadata": {},
   "outputs": [
    {
     "data": {
      "text/plain": [
       "'https://api.foursquare.com/v2/venues/explore?&client_id=XZ20NXF0P14MW0QPBEYAXOR2K1YDAVCFP22YN3IGNTKHGGZ5&client_secret=IP5GBIKY3153FGDEKIZBJYXMHXLFEQIQP2VFQJAUTJO2XHE2&v=20190623&ll=43.806686299999996,-79.19435340000001&radius=500&limit=50'"
      ]
     },
     "execution_count": 34,
     "metadata": {},
     "output_type": "execute_result"
    }
   ],
   "source": [
    "LIMIT = 50\n",
    "radius = 500\n",
    "url = 'https://api.foursquare.com/v2/venues/explore?&client_id={}&client_secret={}&v={}&ll={},{}&radius={}&limit={}'.format(\n",
    "    CLIENT_ID,\n",
    "    CLIENT_SECRET,\n",
    "    VERSION,\n",
    "    neighborhood_latitude,\n",
    "    neighborhood_longitude,\n",
    "    radius,\n",
    "    LIMIT)\n",
    "url"
   ]
  },
  {
   "cell_type": "code",
   "execution_count": 35,
   "metadata": {},
   "outputs": [
    {
     "data": {
      "text/plain": [
       "{'meta': {'code': 200, 'requestId': '5e5ca92198205d001b0dbeee'},\n",
       " 'response': {'warning': {'text': \"There aren't a lot of results near you. Try something more general, reset your filters, or expand the search area.\"},\n",
       "  'headerLocation': 'Malvern',\n",
       "  'headerFullLocation': 'Malvern, Toronto',\n",
       "  'headerLocationGranularity': 'neighborhood',\n",
       "  'totalResults': 1,\n",
       "  'suggestedBounds': {'ne': {'lat': 43.8111863045, 'lng': -79.18812958073042},\n",
       "   'sw': {'lat': 43.80218629549999, 'lng': -79.2005772192696}},\n",
       "  'groups': [{'type': 'Recommended Places',\n",
       "    'name': 'recommended',\n",
       "    'items': [{'reasons': {'count': 0,\n",
       "       'items': [{'summary': 'This spot is popular',\n",
       "         'type': 'general',\n",
       "         'reasonName': 'globalInteractionReason'}]},\n",
       "      'venue': {'id': '4bb6b9446edc76b0d771311c',\n",
       "       'name': \"Wendy's\",\n",
       "       'location': {'crossStreet': 'Morningside & Sheppard',\n",
       "        'lat': 43.80744841934756,\n",
       "        'lng': -79.19905558052072,\n",
       "        'labeledLatLngs': [{'label': 'display',\n",
       "          'lat': 43.80744841934756,\n",
       "          'lng': -79.19905558052072}],\n",
       "        'distance': 387,\n",
       "        'cc': 'CA',\n",
       "        'city': 'Toronto',\n",
       "        'state': 'ON',\n",
       "        'country': 'Canada',\n",
       "        'formattedAddress': ['Toronto ON', 'Canada']},\n",
       "       'categories': [{'id': '4bf58dd8d48988d16e941735',\n",
       "         'name': 'Fast Food Restaurant',\n",
       "         'pluralName': 'Fast Food Restaurants',\n",
       "         'shortName': 'Fast Food',\n",
       "         'icon': {'prefix': 'https://ss3.4sqi.net/img/categories_v2/food/fastfood_',\n",
       "          'suffix': '.png'},\n",
       "         'primary': True}],\n",
       "       'photos': {'count': 0, 'groups': []}},\n",
       "      'referralId': 'e-0-4bb6b9446edc76b0d771311c-0'}]}]}}"
      ]
     },
     "execution_count": 35,
     "metadata": {},
     "output_type": "execute_result"
    }
   ],
   "source": [
    "results = requests.get(url).json()\n",
    "results"
   ]
  },
  {
   "cell_type": "code",
   "execution_count": 38,
   "metadata": {},
   "outputs": [],
   "source": [
    "def get_category_type(row):\n",
    "    try:\n",
    "        categories_list = row['categories']\n",
    "    except:\n",
    "        categories_list = row['venue.categories']\n",
    "        if len(categories_list) == 0:\n",
    "            return None\n",
    "        else:\n",
    "            return categories_list[0]['name']"
   ]
  },
  {
   "cell_type": "code",
   "execution_count": 39,
   "metadata": {},
   "outputs": [
    {
     "data": {
      "text/html": [
       "<div>\n",
       "<style scoped>\n",
       "    .dataframe tbody tr th:only-of-type {\n",
       "        vertical-align: middle;\n",
       "    }\n",
       "\n",
       "    .dataframe tbody tr th {\n",
       "        vertical-align: top;\n",
       "    }\n",
       "\n",
       "    .dataframe thead th {\n",
       "        text-align: right;\n",
       "    }\n",
       "</style>\n",
       "<table border=\"1\" class=\"dataframe\">\n",
       "  <thead>\n",
       "    <tr style=\"text-align: right;\">\n",
       "      <th></th>\n",
       "      <th>name</th>\n",
       "      <th>categories</th>\n",
       "      <th>lat</th>\n",
       "      <th>lng</th>\n",
       "    </tr>\n",
       "  </thead>\n",
       "  <tbody>\n",
       "    <tr>\n",
       "      <th>0</th>\n",
       "      <td>Wendy's</td>\n",
       "      <td>Fast Food Restaurant</td>\n",
       "      <td>43.807448</td>\n",
       "      <td>-79.199056</td>\n",
       "    </tr>\n",
       "  </tbody>\n",
       "</table>\n",
       "</div>"
      ],
      "text/plain": [
       "      name            categories        lat        lng\n",
       "0  Wendy's  Fast Food Restaurant  43.807448 -79.199056"
      ]
     },
     "execution_count": 39,
     "metadata": {},
     "output_type": "execute_result"
    }
   ],
   "source": [
    "venues = results['response']['groups'][0]['items']\n",
    "nearby_venues = json_normalize(venues) # flatten JSON\n",
    "# filter columns\n",
    "filtered_columns = ['venue.name', 'venue.categories', 'venue.location.lat', 'venue.location.lng']\n",
    "nearby_venues =nearby_venues.loc[:, filtered_columns]\n",
    "# filter the category for each row\n",
    "nearby_venues['venue.categories'] = nearby_venues.apply(get_category_type, axis=1)\n",
    "# clean columns\n",
    "nearby_venues.columns = [col.split(\".\")[-1] for col in nearby_venues.columns]\n",
    "nearby_venues.head()"
   ]
  },
  {
   "cell_type": "code",
   "execution_count": 40,
   "metadata": {},
   "outputs": [
    {
     "name": "stdout",
     "output_type": "stream",
     "text": [
      "1 venues were returned by Foursquare.\n"
     ]
    }
   ],
   "source": [
    "print('{} venues were returned by Foursquare.'.format(nearby_venues.shape[0]))"
   ]
  },
  {
   "cell_type": "code",
   "execution_count": null,
   "metadata": {},
   "outputs": [],
   "source": []
  }
 ],
 "metadata": {
  "kernelspec": {
   "display_name": "Python 3.6",
   "language": "python",
   "name": "python3"
  },
  "language_info": {
   "codemirror_mode": {
    "name": "ipython",
    "version": 3
   },
   "file_extension": ".py",
   "mimetype": "text/x-python",
   "name": "python",
   "nbconvert_exporter": "python",
   "pygments_lexer": "ipython3",
   "version": "3.6.9"
  }
 },
 "nbformat": 4,
 "nbformat_minor": 1
}
